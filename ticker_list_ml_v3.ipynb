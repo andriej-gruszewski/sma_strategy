{
 "cells": [
  {
   "cell_type": "code",
   "execution_count": 20,
   "id": "8319cb41",
   "metadata": {},
   "outputs": [],
   "source": [
    "import pandas as pd\n",
    "import numpy as np\n",
    "import pandas_ta as ta\n",
    "import yfinance as yf"
   ]
  },
  {
   "cell_type": "code",
   "execution_count": 21,
   "id": "1d1a006a",
   "metadata": {},
   "outputs": [],
   "source": [
    "    def applying_strategy_return_pct_change(df, fast_sma, slow_sma):\n",
    "        df['sma_fast'] = ta.sma(close=df['Close'], length=fast_sma)\n",
    "        df['sma_slow'] = ta.sma(close=df['Close'], length=slow_sma)\n",
    "        df['position'] = np.where(df['sma_fast'] > df['sma_slow'], 1, np.where(df['sma_fast'] < df['sma_slow'], -1, 0))\n",
    "        df['position_price'] = np.where(df['position'].shift(1) != df['position'], df['Close'], 0)\n",
    "        df['position_price'] = df['position_price'].replace(0, df['position_price'], method='ffill')\n",
    "        df['pct'] = np.where(df['position'].shift(1) == 0, 0, df['position_price'].pct_change())\n",
    "        df['pct'] = np.where(df['position'] == 1, df['pct'] * -1, df['pct'] * 1)\n",
    "\n",
    "# deleting 2,5 of top and bottom % of positions to reduce influence of lucky shots\n",
    "        q_low = df[\"pct\"].quantile(0.025)\n",
    "        q_hi  = df[\"pct\"].quantile(0.975)\n",
    "        df_filtered = df[(df[\"pct\"] < q_hi) & (df[\"pct\"] > q_low)]\n",
    "        pct_sum = df_filtered['pct'].sum()\n",
    "\n",
    "# use this line for raw data without deleting outliers\n",
    "#         pct_sum = df['pct'].sum()\n",
    "        return pct_sum"
   ]
  },
  {
   "cell_type": "code",
   "execution_count": 22,
   "id": "ab18b609",
   "metadata": {},
   "outputs": [],
   "source": [
    "ticker_list = ['BTC-USD', 'ETH-USD', 'BNB-USD', 'XRP-USD', 'ADA-USD', 'MATIC-USD', 'OKB-USD', \n",
    "              'DOGE-USD', 'SOL-USD', 'DOT-USD']"
   ]
  },
  {
   "cell_type": "code",
   "execution_count": 23,
   "id": "87e5bd1b",
   "metadata": {},
   "outputs": [
    {
     "name": "stdout",
     "output_type": "stream",
     "text": [
      "[*********************100%***********************]  1 of 1 completed\n",
      "BTC-USD {'fast': 46, 'slow': 47, 'pct_change': 0.04017984291665666}\n",
      "[*********************100%***********************]  1 of 1 completed\n",
      "ETH-USD {'fast': 22, 'slow': 23, 'pct_change': 0.32821862932574464}\n",
      "[*********************100%***********************]  1 of 1 completed\n",
      "BNB-USD {'fast': 62, 'slow': 63, 'pct_change': 0.10160302265285137}\n",
      "[*********************100%***********************]  1 of 1 completed\n",
      "XRP-USD {'fast': 23, 'slow': 24, 'pct_change': 0.06635655720048683}\n",
      "[*********************100%***********************]  1 of 1 completed\n",
      "ADA-USD {'fast': 21, 'slow': 23, 'pct_change': 0.21315667996506837}\n",
      "[*********************100%***********************]  1 of 1 completed\n",
      "MATIC-USD {'fast': 23, 'slow': 24, 'pct_change': 0.35717795660225904}\n",
      "[*********************100%***********************]  1 of 1 completed\n",
      "OKB-USD {'fast': 52, 'slow': 53, 'pct_change': 0.030506491249221446}\n",
      "[*********************100%***********************]  1 of 1 completed\n",
      "DOGE-USD {'fast': 74, 'slow': 75, 'pct_change': 0.0425619084101726}\n",
      "[*********************100%***********************]  1 of 1 completed\n",
      "SOL-USD {'fast': 22, 'slow': 23, 'pct_change': 0.17630891944927618}\n",
      "[*********************100%***********************]  1 of 1 completed\n",
      "DOT-USD {'fast': 23, 'slow': 24, 'pct_change': 0.14823356001761812}\n"
     ]
    }
   ],
   "source": [
    "for ticker in ticker_list:\n",
    "    \n",
    "    symbol = ticker\n",
    "    start = '2022-01-01'\n",
    "    end = '2023-01-01'\n",
    "    interval = '1h'\n",
    "\n",
    "    df = yf.download(symbol, start, end, interval=interval)\n",
    "    # Preparing data for applying technicals\n",
    "    df = pd.DataFrame(data=df).reset_index()\n",
    "    df = df[['Open', 'High', 'Low', 'Close']]\n",
    "\n",
    "    revenues_list = []\n",
    "\n",
    "    for fast in range(1, 101):\n",
    "        for slow in range(fast+1, 201):\n",
    "            pct_change = applying_strategy_return_pct_change(df, fast, slow)\n",
    "            a = {'fast': fast, 'slow': slow, 'pct_change': pct_change}\n",
    "            revenues_list.append(a)\n",
    "\n",
    "    pct_change_list = []\n",
    "\n",
    "    for condition in revenues_list:\n",
    "        pct_change_list.append(condition['pct_change'])\n",
    "\n",
    "    max_pct_change = max(pct_change_list)\n",
    "\n",
    "    for strategy in revenues_list:\n",
    "        if strategy['pct_change'] == max_pct_change:\n",
    "            print(f\"{symbol} {strategy}\")"
   ]
  }
 ],
 "metadata": {
  "kernelspec": {
   "display_name": "Python 3 (ipykernel)",
   "language": "python",
   "name": "python3"
  },
  "language_info": {
   "codemirror_mode": {
    "name": "ipython",
    "version": 3
   },
   "file_extension": ".py",
   "mimetype": "text/x-python",
   "name": "python",
   "nbconvert_exporter": "python",
   "pygments_lexer": "ipython3",
   "version": "3.9.12"
  }
 },
 "nbformat": 4,
 "nbformat_minor": 5
}
