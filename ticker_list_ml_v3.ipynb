{
 "cells": [
  {
   "cell_type": "code",
   "execution_count": null,
   "id": "8319cb41",
   "metadata": {},
   "outputs": [],
   "source": [
    "import pandas as pd\n",
    "import numpy as np\n",
    "import pandas_ta as ta\n",
    "import yfinance as yf"
   ]
  },
  {
   "cell_type": "code",
   "execution_count": null,
   "id": "1d1a006a",
   "metadata": {},
   "outputs": [],
   "source": [
    "    def applying_strategy_return_pct_change(df, fast_sma, slow_sma):\n",
    "        df['sma_fast'] = ta.sma(close=df['Close'], length=fast_sma)\n",
    "        df['sma_slow'] = ta.sma(close=df['Close'], length=slow_sma)\n",
    "        df['position'] = np.where(df['sma_fast'] > df['sma_slow'], 1, np.where(df['sma_fast'] < df['sma_slow'], -1, 0))\n",
    "        df['position_price'] = np.where(df['position'].shift(1) != df['position'], df['Close'], 0)\n",
    "        df['position_price'] = df['position_price'].replace(0, df['position_price'], method='ffill')\n",
    "        df['pct'] = np.where(df['position'].shift(1) == 0, 0, df['position_price'].pct_change())\n",
    "        df['pct'] = np.where(df['position'] == 1, df['pct'] * -1, df['pct'] * 1)\n",
    "\n",
    "# deleting 2,5 of top and bottom % of positions to reduce influence of lucky shots\n",
    "        q_low = df[\"pct\"].quantile(0.025)\n",
    "        q_hi  = df[\"pct\"].quantile(0.975)\n",
    "        df_filtered = df[(df[\"pct\"] < q_hi) & (df[\"pct\"] > q_low)]\n",
    "        pct_sum = df_filtered['pct'].sum()\n",
    "\n",
    "# use this line for raw data without deleting outliers\n",
    "#         pct_sum = df['pct'].sum()\n",
    "        return pct_sum"
   ]
  },
  {
   "cell_type": "code",
   "execution_count": null,
   "id": "ab18b609",
   "metadata": {},
   "outputs": [],
   "source": [
    "# create list with tickers you want to check\n",
    "\n",
    "ticker_list = ['BTC-USD', 'ETH-USD', 'BNB-USD', 'XRP-USD', 'ADA-USD', 'MATIC-USD', 'OKB-USD', \n",
    "              'DOGE-USD', 'SOL-USD', 'DOT-USD']\n",
    "\n",
    "start = '2022-01-01'\n",
    "end = '2023-01-01'\n",
    "interval = '1h'"
   ]
  },
  {
   "cell_type": "code",
   "execution_count": null,
   "id": "87e5bd1b",
   "metadata": {},
   "outputs": [],
   "source": [
    "for ticker in ticker_list:\n",
    "    \n",
    "    symbol = ticker\n",
    "    df = yf.download(symbol, start, end, interval=interval)\n",
    "    # Preparing data for applying technicals\n",
    "    df = pd.DataFrame(data=df).reset_index()\n",
    "    df = df[['Open', 'High', 'Low', 'Close']]\n",
    "\n",
    "    revenues_list = []\n",
    "\n",
    "    for fast in range(1, 101):\n",
    "        for slow in range(fast+1, 201):\n",
    "            pct_change = applying_strategy_return_pct_change(df, fast, slow)\n",
    "            a = {'fast': fast, 'slow': slow, 'pct_change': pct_change}\n",
    "            revenues_list.append(a)\n",
    "\n",
    "    pct_change_list = []\n",
    "\n",
    "    for condition in revenues_list:\n",
    "        pct_change_list.append(condition['pct_change'])\n",
    "\n",
    "    max_pct_change = max(pct_change_list)\n",
    "\n",
    "    for strategy in revenues_list:\n",
    "        if strategy['pct_change'] == max_pct_change:\n",
    "            print(f\"{symbol} {strategy}\")"
   ]
  }
 ],
 "metadata": {
  "kernelspec": {
   "display_name": "Python 3 (ipykernel)",
   "language": "python",
   "name": "python3"
  },
  "language_info": {
   "codemirror_mode": {
    "name": "ipython",
    "version": 3
   },
   "file_extension": ".py",
   "mimetype": "text/x-python",
   "name": "python",
   "nbconvert_exporter": "python",
   "pygments_lexer": "ipython3",
   "version": "3.9.12"
  }
 },
 "nbformat": 4,
 "nbformat_minor": 5
}
