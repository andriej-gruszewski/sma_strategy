{
 "cells": [
  {
   "cell_type": "code",
   "execution_count": 824,
   "id": "bb3466ef",
   "metadata": {},
   "outputs": [],
   "source": [
    "import pandas as pd\n",
    "import numpy as np\n",
    "import pandas_ta as ta\n",
    "import matplotlib.pyplot as plt\n",
    "import yfinance as yf\n",
    "plt.style.use('classic')"
   ]
  },
  {
   "cell_type": "code",
   "execution_count": 825,
   "id": "2916d6a7",
   "metadata": {
    "scrolled": true
   },
   "outputs": [
    {
     "name": "stdout",
     "output_type": "stream",
     "text": [
      "[*********************100%***********************]  1 of 1 completed\n"
     ]
    }
   ],
   "source": [
    "# this whole section works as input from user\n",
    "# set up strategy variables\n",
    "symbol = 'ETH-USD'\n",
    "start = '2022-02-01'\n",
    "end = '2023-02-22'\n",
    "interval = '1h'\n",
    "fast_sma = 12\n",
    "slow_sma = 26\n",
    "\n",
    "# set up stable position size and laverage (if no laverage set up for 1)\n",
    "\n",
    "laverage = 3\n",
    "position_size = 1000"
   ]
  },
  {
   "cell_type": "code",
   "execution_count": 826,
   "id": "1a5442e0",
   "metadata": {},
   "outputs": [
    {
     "data": {
      "text/html": [
       "<div>\n",
       "<style scoped>\n",
       "    .dataframe tbody tr th:only-of-type {\n",
       "        vertical-align: middle;\n",
       "    }\n",
       "\n",
       "    .dataframe tbody tr th {\n",
       "        vertical-align: top;\n",
       "    }\n",
       "\n",
       "    .dataframe thead th {\n",
       "        text-align: right;\n",
       "    }\n",
       "</style>\n",
       "<table border=\"1\" class=\"dataframe\">\n",
       "  <thead>\n",
       "    <tr style=\"text-align: right;\">\n",
       "      <th></th>\n",
       "      <th>Open</th>\n",
       "      <th>High</th>\n",
       "      <th>Low</th>\n",
       "      <th>Close</th>\n",
       "      <th>Adj Close</th>\n",
       "      <th>Volume</th>\n",
       "    </tr>\n",
       "  </thead>\n",
       "  <tbody>\n",
       "    <tr>\n",
       "      <th>2022-01-31 23:00:00+00:00</th>\n",
       "      <td>2682.983154</td>\n",
       "      <td>2688.123535</td>\n",
       "      <td>2681.151367</td>\n",
       "      <td>2688.123535</td>\n",
       "      <td>2688.123535</td>\n",
       "      <td>0</td>\n",
       "    </tr>\n",
       "    <tr>\n",
       "      <th>2022-02-01 00:00:00+00:00</th>\n",
       "      <td>2687.898926</td>\n",
       "      <td>2695.661865</td>\n",
       "      <td>2682.621826</td>\n",
       "      <td>2688.253662</td>\n",
       "      <td>2688.253662</td>\n",
       "      <td>0</td>\n",
       "    </tr>\n",
       "    <tr>\n",
       "      <th>2022-02-01 01:00:00+00:00</th>\n",
       "      <td>2689.559814</td>\n",
       "      <td>2697.903564</td>\n",
       "      <td>2684.163818</td>\n",
       "      <td>2686.996094</td>\n",
       "      <td>2686.996094</td>\n",
       "      <td>0</td>\n",
       "    </tr>\n",
       "    <tr>\n",
       "      <th>2022-02-01 02:00:00+00:00</th>\n",
       "      <td>2687.045166</td>\n",
       "      <td>2709.399658</td>\n",
       "      <td>2685.692871</td>\n",
       "      <td>2709.399658</td>\n",
       "      <td>2709.399658</td>\n",
       "      <td>0</td>\n",
       "    </tr>\n",
       "    <tr>\n",
       "      <th>2022-02-01 03:00:00+00:00</th>\n",
       "      <td>2710.852051</td>\n",
       "      <td>2750.967285</td>\n",
       "      <td>2709.241211</td>\n",
       "      <td>2750.967285</td>\n",
       "      <td>2750.967285</td>\n",
       "      <td>255102976</td>\n",
       "    </tr>\n",
       "    <tr>\n",
       "      <th>...</th>\n",
       "      <td>...</td>\n",
       "      <td>...</td>\n",
       "      <td>...</td>\n",
       "      <td>...</td>\n",
       "      <td>...</td>\n",
       "      <td>...</td>\n",
       "    </tr>\n",
       "    <tr>\n",
       "      <th>2023-02-21 18:00:00+00:00</th>\n",
       "      <td>1674.325684</td>\n",
       "      <td>1682.198975</td>\n",
       "      <td>1674.325684</td>\n",
       "      <td>1680.110229</td>\n",
       "      <td>1680.110229</td>\n",
       "      <td>120632320</td>\n",
       "    </tr>\n",
       "    <tr>\n",
       "      <th>2023-02-21 19:00:00+00:00</th>\n",
       "      <td>1679.993164</td>\n",
       "      <td>1679.993164</td>\n",
       "      <td>1671.905518</td>\n",
       "      <td>1672.815674</td>\n",
       "      <td>1672.815674</td>\n",
       "      <td>0</td>\n",
       "    </tr>\n",
       "    <tr>\n",
       "      <th>2023-02-21 20:00:00+00:00</th>\n",
       "      <td>1672.766357</td>\n",
       "      <td>1674.366455</td>\n",
       "      <td>1667.279785</td>\n",
       "      <td>1669.976807</td>\n",
       "      <td>1669.976807</td>\n",
       "      <td>0</td>\n",
       "    </tr>\n",
       "    <tr>\n",
       "      <th>2023-02-21 21:00:00+00:00</th>\n",
       "      <td>1669.832397</td>\n",
       "      <td>1670.775757</td>\n",
       "      <td>1655.881958</td>\n",
       "      <td>1655.881958</td>\n",
       "      <td>1655.881958</td>\n",
       "      <td>111041536</td>\n",
       "    </tr>\n",
       "    <tr>\n",
       "      <th>2023-02-21 21:25:00+00:00</th>\n",
       "      <td>1649.167114</td>\n",
       "      <td>1649.167114</td>\n",
       "      <td>1649.167114</td>\n",
       "      <td>1649.167114</td>\n",
       "      <td>1649.167114</td>\n",
       "      <td>0</td>\n",
       "    </tr>\n",
       "  </tbody>\n",
       "</table>\n",
       "<p>9263 rows × 6 columns</p>\n",
       "</div>"
      ],
      "text/plain": [
       "                                  Open         High          Low        Close  \\\n",
       "2022-01-31 23:00:00+00:00  2682.983154  2688.123535  2681.151367  2688.123535   \n",
       "2022-02-01 00:00:00+00:00  2687.898926  2695.661865  2682.621826  2688.253662   \n",
       "2022-02-01 01:00:00+00:00  2689.559814  2697.903564  2684.163818  2686.996094   \n",
       "2022-02-01 02:00:00+00:00  2687.045166  2709.399658  2685.692871  2709.399658   \n",
       "2022-02-01 03:00:00+00:00  2710.852051  2750.967285  2709.241211  2750.967285   \n",
       "...                                ...          ...          ...          ...   \n",
       "2023-02-21 18:00:00+00:00  1674.325684  1682.198975  1674.325684  1680.110229   \n",
       "2023-02-21 19:00:00+00:00  1679.993164  1679.993164  1671.905518  1672.815674   \n",
       "2023-02-21 20:00:00+00:00  1672.766357  1674.366455  1667.279785  1669.976807   \n",
       "2023-02-21 21:00:00+00:00  1669.832397  1670.775757  1655.881958  1655.881958   \n",
       "2023-02-21 21:25:00+00:00  1649.167114  1649.167114  1649.167114  1649.167114   \n",
       "\n",
       "                             Adj Close     Volume  \n",
       "2022-01-31 23:00:00+00:00  2688.123535          0  \n",
       "2022-02-01 00:00:00+00:00  2688.253662          0  \n",
       "2022-02-01 01:00:00+00:00  2686.996094          0  \n",
       "2022-02-01 02:00:00+00:00  2709.399658          0  \n",
       "2022-02-01 03:00:00+00:00  2750.967285  255102976  \n",
       "...                                ...        ...  \n",
       "2023-02-21 18:00:00+00:00  1680.110229  120632320  \n",
       "2023-02-21 19:00:00+00:00  1672.815674          0  \n",
       "2023-02-21 20:00:00+00:00  1669.976807          0  \n",
       "2023-02-21 21:00:00+00:00  1655.881958  111041536  \n",
       "2023-02-21 21:25:00+00:00  1649.167114          0  \n",
       "\n",
       "[9263 rows x 6 columns]"
      ]
     },
     "execution_count": 826,
     "metadata": {},
     "output_type": "execute_result"
    }
   ],
   "source": [
    "df = yf.download(symbol, start, end, interval=interval)"
   ]
  },
  {
   "cell_type": "code",
   "execution_count": 827,
   "id": "b4b8c2cd",
   "metadata": {},
   "outputs": [],
   "source": [
    "df = pd.DataFrame(data=df).reset_index()"
   ]
  },
  {
   "cell_type": "code",
   "execution_count": 828,
   "id": "c5a90504",
   "metadata": {},
   "outputs": [],
   "source": [
    "df = df[['Open', 'High', 'Low', 'Close']]"
   ]
  },
  {
   "cell_type": "code",
   "execution_count": 829,
   "id": "45e30fd8",
   "metadata": {},
   "outputs": [],
   "source": [
    "df['sma_fast'] = ta.sma(close=df['Close'], length=fast_sma)\n",
    "df['sma_slow'] = ta.sma(close=df['Close'], length=slow_sma)"
   ]
  },
  {
   "cell_type": "code",
   "execution_count": 830,
   "id": "9ca0493a",
   "metadata": {},
   "outputs": [],
   "source": [
    "df['position'] = np.where(df['sma_fast'] > df['sma_slow'], 1,\n",
    "                         np.where(df['sma_fast'] < df['sma_slow'], -1, 0))"
   ]
  },
  {
   "cell_type": "code",
   "execution_count": 831,
   "id": "c2c16edb",
   "metadata": {},
   "outputs": [],
   "source": [
    "df['position_price'] = np.where(df['position'].shift(1) != df['position'], df['Close'], 0)"
   ]
  },
  {
   "cell_type": "code",
   "execution_count": 832,
   "id": "69bf012c",
   "metadata": {},
   "outputs": [],
   "source": [
    "df['position_price'] = df['position_price'].replace(0, df['position_price'], method='ffill')"
   ]
  },
  {
   "cell_type": "code",
   "execution_count": 833,
   "id": "56b6f280",
   "metadata": {},
   "outputs": [],
   "source": [
    "df['pct'] = 0"
   ]
  },
  {
   "cell_type": "code",
   "execution_count": 834,
   "id": "22c1df5f",
   "metadata": {},
   "outputs": [],
   "source": [
    "df['pct'] = np.where(df['position'].shift(1) == 0, 0, df['position_price'].pct_change())"
   ]
  },
  {
   "cell_type": "code",
   "execution_count": 835,
   "id": "499f7943",
   "metadata": {},
   "outputs": [],
   "source": [
    "df['pct'] = np.where(df['position'] == 1, df['pct'] * -1, df['pct'] * 1)"
   ]
  },
  {
   "cell_type": "code",
   "execution_count": 836,
   "id": "2be604a3",
   "metadata": {},
   "outputs": [],
   "source": [
    "pct_sum = df['pct'].sum()"
   ]
  },
  {
   "cell_type": "code",
   "execution_count": 837,
   "id": "1ac931fc",
   "metadata": {},
   "outputs": [],
   "source": [
    "positions = df.pct[df['pct'] != 0]"
   ]
  },
  {
   "cell_type": "code",
   "execution_count": 838,
   "id": "353d14b6",
   "metadata": {
    "scrolled": true
   },
   "outputs": [],
   "source": [
    "positions_df = pd.DataFrame(data=positions)\n",
    "positions_df.drop(index=0, inplace=True)"
   ]
  },
  {
   "cell_type": "code",
   "execution_count": 839,
   "id": "1c47c712",
   "metadata": {},
   "outputs": [],
   "source": [
    "q_low = positions_df[\"pct\"].quantile(0.025)\n",
    "q_hi  = positions_df[\"pct\"].quantile(0.975)\n",
    "\n",
    "positions_df_filtered = positions_df[(positions_df[\"pct\"] < q_hi) & (positions_df[\"pct\"] > q_low)]\n",
    "pct_sum_filtered = positions_df_filtered.pct.sum()"
   ]
  },
  {
   "cell_type": "code",
   "execution_count": 841,
   "id": "0f5a727e",
   "metadata": {},
   "outputs": [],
   "source": [
    "positions_df['revenue'] = position_size + (positions_df['pct'] * (position_size * laverage))"
   ]
  },
  {
   "cell_type": "code",
   "execution_count": 842,
   "id": "efc61f64",
   "metadata": {},
   "outputs": [],
   "source": [
    "revenue_sum = positions_df['revenue'].sum()"
   ]
  },
  {
   "cell_type": "code",
   "execution_count": 843,
   "id": "f35d3274",
   "metadata": {},
   "outputs": [],
   "source": [
    "positions_number = positions_df['revenue'].count()"
   ]
  },
  {
   "cell_type": "code",
   "execution_count": 844,
   "id": "62088785",
   "metadata": {},
   "outputs": [],
   "source": [
    "total_revenue = revenue_sum - (positions_number * position_size)"
   ]
  },
  {
   "cell_type": "code",
   "execution_count": 845,
   "id": "ccbfd3dc",
   "metadata": {},
   "outputs": [
    {
     "name": "stderr",
     "output_type": "stream",
     "text": [
      "/var/folders/m4/67l_b9zj1m78cn4x96l_nm2c0000gn/T/ipykernel_2289/276724956.py:3: SettingWithCopyWarning: \n",
      "A value is trying to be set on a copy of a slice from a DataFrame.\n",
      "Try using .loc[row_indexer,col_indexer] = value instead\n",
      "\n",
      "See the caveats in the documentation: https://pandas.pydata.org/pandas-docs/stable/user_guide/indexing.html#returning-a-view-versus-a-copy\n",
      "  positions_df_filtered['revenue'] = position_size + (positions_df_filtered['pct'] * (position_size * laverage))\n"
     ]
    }
   ],
   "source": [
    "# filtered for quantile 2,5% of top and bottom\n",
    "\n",
    "positions_df_filtered['revenue'] = position_size + (positions_df_filtered['pct'] * (position_size * laverage))\n",
    "revenue_sum_filtered = positions_df_filtered['revenue'].sum()\n",
    "\n",
    "positions_number_filtered = positions_df_filtered['revenue'].count()\n",
    "total_revenue_filtered = revenue_sum_filtered - (positions_number_filtered * position_size)"
   ]
  },
  {
   "cell_type": "code",
   "execution_count": 846,
   "id": "4fee4f27",
   "metadata": {},
   "outputs": [],
   "source": [
    "won_positions = positions_df[positions_df['pct'] > 0]"
   ]
  },
  {
   "cell_type": "code",
   "execution_count": 847,
   "id": "42f8e2e7",
   "metadata": {},
   "outputs": [],
   "source": [
    "pct_winning = won_positions['pct'].count() / positions_number"
   ]
  },
  {
   "cell_type": "code",
   "execution_count": 849,
   "id": "72a93eda",
   "metadata": {
    "scrolled": true
   },
   "outputs": [
    {
     "name": "stdout",
     "output_type": "stream",
     "text": [
      "Number of trades: 941\n",
      "\n",
      "Total revenue of trades 7924.124672940234$\n",
      "Strategy revenue %: 2.6413748909800874\n",
      "Strategy % won trades: 0.5334750265674814\n",
      "\n",
      "After ignoring outliers (2,5% of top and 2,5% of bottom results), total revenue is: 4882.914891320397$\n",
      "and % of revenue is: 1.6276382971068257\n"
     ]
    },
    {
     "data": {
      "text/plain": [
       "<AxesSubplot:>"
      ]
     },
     "execution_count": 849,
     "metadata": {},
     "output_type": "execute_result"
    },
    {
     "data": {
      "image/png": "[encoded data removed]",
      "text/plain": [
       "<Figure size 1280x720 with 1 Axes>"
      ]
     },
     "metadata": {},
     "output_type": "display_data"
    }
   ],
   "source": [
    "print(f'Number of trades: {positions_number}\\n')\n",
    "print(f'Total revenue of trades {total_revenue}$')\n",
    "print(f'Strategy revenue %: {pct_sum}')\n",
    "print(f'Strategy % won trades: {pct_winning}\\n')\n",
    "\n",
    "print(f'After ignoring outliers (2,5% of top and 2,5% of bottom results), total revenue is: {total_revenue_filtered}$')\n",
    "print(f'and % of revenue is: {pct_sum_filtered}')\n",
    "positions_df['revenue'].plot(figsize=(16, 9))"
   ]
  }
 ],
 "metadata": {
  "kernelspec": {
   "display_name": "Python 3 (ipykernel)",
   "language": "python",
   "name": "python3"
  },
  "language_info": {
   "codemirror_mode": {
    "name": "ipython",
    "version": 3
   },
   "file_extension": ".py",
   "mimetype": "text/x-python",
   "name": "python",
   "nbconvert_exporter": "python",
   "pygments_lexer": "ipython3",
   "version": "3.9.12"
  }
 },
 "nbformat": 4,
 "nbformat_minor": 5
}
